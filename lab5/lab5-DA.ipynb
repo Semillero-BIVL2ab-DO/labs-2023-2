{
 "cells": [
  {
   "cell_type": "markdown",
   "metadata": {},
   "source": [
    "# Lab 5: Aumento de datos y otras estratégias\n",
    "En este laboratorio se busca introducir algunas estrategias que existen para mejorar el entrenamiento de los modelos de aprendizaje profundo."
   ]
  },
  {
   "cell_type": "code",
   "execution_count": null,
   "metadata": {},
   "outputs": [],
   "source": [
    "# importando librerías\n",
    "import matplotlib.pyplot as plt\n",
    "import numpy as np\n",
    "\n",
    "# importando librerías de deep learning\n",
    "import tensorflow as tf\n",
    "from tensorflow import keras\n",
    "from keras import layers"
   ]
  },
  {
   "cell_type": "code",
   "execution_count": null,
   "metadata": {},
   "outputs": [],
   "source": [
    "# conectando con drive\n",
    "from google.colab import drive\n",
    "drive.mount('/content/drive')"
   ]
  },
  {
   "cell_type": "code",
   "execution_count": null,
   "metadata": {},
   "outputs": [],
   "source": [
    "# moverse a la carpeta donde guardaron el laboratorio\n",
    "# Al lab 4 porque es donde están los datos!!!\n",
    "%cd \"drive/MyDrive/labs-2023-2/lab4\""
   ]
  },
  {
   "cell_type": "markdown",
   "metadata": {},
   "source": [
    "## Lectura y manipulación de los datos\n",
    "**Prueba 1:** con el conjunto de datos de glaucoma dado en el laboratorio 4, genere un dataset para el entrenamiento y evaluación de los modelos. Seleccione un tamaño de $200\\times200$ piexeles, un $15%$ de los datos para validación y un tamaño apropiado para los lotes (batches). Configure los datasets para AUTOTUNE de hilos de procesamiento."
   ]
  },
  {
   "cell_type": "code",
   "execution_count": null,
   "metadata": {},
   "outputs": [],
   "source": []
  },
  {
   "cell_type": "markdown",
   "metadata": {},
   "source": [
    "## Aumento de datos\n",
    "El aumento de datos es un conjunto de técnicas que se utilizan para aumentar artificialmente la cantidad de datos de entrenamiento disponibles para un modelo de aprendizaje automático. Esto puede ser útil en casos en los que el conjunto de datos de entrenamiento es pequeño o sesgado, lo que puede dificultar que el modelo aprenda a generalizar a nuevos datos."
   ]
  },
  {
   "cell_type": "markdown",
   "metadata": {},
   "source": [
    "**Prueba 2:** Explore el funcionamiento de las capas para aumento de datos. Para ello:\n",
    "1. Lea en memoria una de las imágenes disponibles en la carpeta `datos` del laboratorio 4.\n",
    "2. Genere un modelo secuencial con alguna de las siguientes capas:\n",
    "    - [layers.RandomCrop](https://www.tensorflow.org/api_docs/python/tf/keras/layers/RandomCrop)\n",
    "    - [layers.RandomFlip](https://www.tensorflow.org/api_docs/python/tf/keras/layers/RandomFlip)\n",
    "    - [layers.RandomTranslation](https://www.tensorflow.org/api_docs/python/tf/keras/layers/RandomTranslation)\n",
    "    - [layers.RandomRotation](https://www.tensorflow.org/api_docs/python/tf/keras/layers/RandomRotation)\n",
    "    - [layers.RandomZoom](https://www.tensorflow.org/api_docs/python/tf/keras/layers/RandomZoom)\n",
    "    - [layers.RandomHeight](https://www.tensorflow.org/api_docs/python/tf/keras/layers/RandomHeight)\n",
    "    - [layers.RandomWidth](https://www.tensorflow.org/api_docs/python/tf/keras/layers/RandomWidth)\n",
    "    - [layers.RandomContrast](https://www.tensorflow.org/api_docs/python/tf/keras/layers/RandomContrast)\n",
    "    - [layers.RandomBrightness](https://www.tensorflow.org/api_docs/python/tf/keras/layers/RandomBrightness)\n",
    "3. Genere la transformación aleatoria en la imágen seleccionada dos veces. Muestre tanto la imágen original como la transformada."
   ]
  },
  {
   "cell_type": "code",
   "execution_count": null,
   "metadata": {},
   "outputs": [],
   "source": []
  },
  {
   "cell_type": "markdown",
   "metadata": {},
   "source": [
    "**Prueba 3:** escoja dos capas de aumento de datos aleatorios (con los cuidados correspondientes), y diseñe una arquitectura de red neuronal convolucional para la detección de glaucoma. Evalue sus resultados en el conjunto de entrenamiento."
   ]
  },
  {
   "cell_type": "code",
   "execution_count": null,
   "metadata": {},
   "outputs": [],
   "source": []
  },
  {
   "cell_type": "markdown",
   "metadata": {},
   "source": [
    "## Callbacks:\n",
    "En aprendizaje profundo (DL), un callback es una función que se pasa a una función de entrenamiento como argumento. La función de entrenamiento ejecutará la función callback en ciertos puntos del proceso de entrenamiento, como al inicio del entrenamiento, después de cada época o después de cada paso de optimización."
   ]
  },
  {
   "cell_type": "markdown",
   "metadata": {},
   "source": [
    "**Prueba 4:** implemente una red neuronal convolucional para el problema de detección de sospecha de glaucoma incluyendo uno (o varios) de los siguientes callbacks:\n",
    "- [keras.callbacks.ModelCheckpoint](https://www.tensorflow.org/api_docs/python/tf/keras/callbacks/ModelCheckpoint)\n",
    "- [keras.callbacks.EarlyStopping](https://www.tensorflow.org/api_docs/python/tf/keras/callbacks/EarlyStopping)\n",
    "- [keras.callbacks.LearningRateScheduler](https://www.tensorflow.org/api_docs/python/tf/keras/callbacks/LearningRateScheduler)"
   ]
  },
  {
   "cell_type": "code",
   "execution_count": null,
   "metadata": {},
   "outputs": [],
   "source": []
  }
 ],
 "metadata": {
  "language_info": {
   "name": "python"
  }
 },
 "nbformat": 4,
 "nbformat_minor": 2
}
