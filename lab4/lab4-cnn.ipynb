{
 "cells": [
  {
   "cell_type": "markdown",
   "metadata": {},
   "source": [
    "# Lab 4: Redes Neuronales Convolucionales\n",
    "En este laboratorio se busca introducir las arquitecturas de redes neuronales convolucionales para crear un modelo clasificador para detectar sospecha de glaucoma."
   ]
  },
  {
   "cell_type": "code",
   "execution_count": null,
   "metadata": {},
   "outputs": [],
   "source": [
    "# importando librerías\n",
    "import matplotlib.pyplot as plt\n",
    "import numpy as np\n",
    "\n",
    "# importando librerías de deep learning\n",
    "import tensorflow as tf\n",
    "from tensorflow import keras\n",
    "from keras import layers"
   ]
  },
  {
   "cell_type": "code",
   "execution_count": null,
   "metadata": {},
   "outputs": [],
   "source": [
    "# conectando con drive\n",
    "from google.colab import drive\n",
    "drive.mount('/content/drive')"
   ]
  },
  {
   "cell_type": "code",
   "execution_count": null,
   "metadata": {},
   "outputs": [],
   "source": [
    "# moverse a la carpeta donde guardaron el laboratorio\n",
    "%cd \"drive/MyDrive/labs-2023-2/lab4\""
   ]
  },
  {
   "cell_type": "markdown",
   "metadata": {},
   "source": [
    "## Lectura y Manipulación de los datos\n",
    "> **Recodando:** Una imagen de fondo de ojo (también conocida como oftalmoscopia o examen de retina) es una técnica médica que permite la visualización de la parte posterior del ojo, específicamente la retina, el nervio óptico y los vasos sanguíneos que irrigan esta área. Para obtener esta imagen, se utiliza un instrumento llamado oftalmoscopio, que emite una luz brillante y permite al oftalmólogo o al optometrista observar la estructura interna del ojo a través de la pupila del paciente.\n",
    "\n",
    "<center>\n",
    "<img src=\"https://images.ctfassets.net/u4vv676b8z52/1x7Fvnx6YrL08hbC1WGJFc/b5a49f6b452581ae830cd6314837ea03/fundus_hero.jpeg?fm=jpg&q=80\" width=80%>\n",
    "</center>\n",
    "\n",
    "### Dataset en Keras\n",
    "Keras tiene funciones especializadas para la lectura de datasets de imágenes para clasificación que tienen la siguiente estructura:\n",
    "\n",
    "```\n",
    "main_directory/\n",
    "...class_a/\n",
    "......a_image_1.jpg\n",
    "......a_image_2.jpg\n",
    "...class_b/\n",
    "......b_image_1.jpg\n",
    "......b_image_2.jpg\n",
    "```\n",
    "\n",
    "En el directorio `datos` podemos encontrar imágenes la cabeza del nervio óptico separada en casos con sospecha de glaucoma e imágenes de control.\n"
   ]
  },
  {
   "cell_type": "code",
   "execution_count": null,
   "metadata": {},
   "outputs": [],
   "source": []
  },
  {
   "cell_type": "markdown",
   "metadata": {},
   "source": [
    "**Prueba 1:** complete el siguiente código para mostrar el pantalla una imagen del dataset y su correspondiente etiqueta."
   ]
  },
  {
   "cell_type": "code",
   "execution_count": null,
   "metadata": {},
   "outputs": [],
   "source": [
    "for img, lab in dataset_val.take(1):\n",
    "  # code here...\n",
    "  \n",
    "  pass"
   ]
  },
  {
   "cell_type": "markdown",
   "metadata": {},
   "source": [
    "**Sobre AUTOTUNE:**\n",
    "Cuando se procesan grandes conjuntos de datos, el rendimiento de su canalización de datos puede ser un cuello de botella. AUTOTUNE es una característica de `tf.data` que permite a TensorFlow ajustar automáticamente los parámetros de su canalización de datos en tiempo de ejecución, basándose en los recursos disponibles del sistema y las características de sus datos."
   ]
  },
  {
   "cell_type": "code",
   "execution_count": null,
   "metadata": {},
   "outputs": [],
   "source": [
    "AUTOTUNE    = tf.data.AUTOTUNE\n",
    "\n"
   ]
  },
  {
   "cell_type": "markdown",
   "metadata": {},
   "source": [
    "## Creando un primer modelo.\n",
    "**Prueba 2:** desarrolle un modelo de clasificación para el problema de detección de sospecha de glaucoma usando un modelo MLP trabajado en el laboratorio 3.\n",
    "*Nota:* en vez de pasar como argumentos las muestras y las etiquedas, pase el dataset al momento de hacer el entrenamiento (`model.fit()`)"
   ]
  },
  {
   "cell_type": "code",
   "execution_count": null,
   "metadata": {},
   "outputs": [],
   "source": []
  },
  {
   "cell_type": "markdown",
   "metadata": {},
   "source": [
    "## Creando una arquitectura convolucional\n",
    "Para crear una arquitectura convolucional se utilizan dos tipos de capas adicionales:\n",
    "* `layers.Conv2D(nFiltros, kernel, activation, padding)` para generar las capas convolucionales.\n",
    "* `layers.MaxPooling2D()` para generar las capas de agrupación."
   ]
  },
  {
   "cell_type": "code",
   "execution_count": null,
   "metadata": {},
   "outputs": [],
   "source": []
  },
  {
   "cell_type": "markdown",
   "metadata": {},
   "source": [
    "**Prueba 3:** realice el entrenamiento del modelo convolucional utilizando los hiperparámetros que considere."
   ]
  },
  {
   "cell_type": "code",
   "execution_count": null,
   "metadata": {},
   "outputs": [],
   "source": []
  },
  {
   "cell_type": "markdown",
   "metadata": {},
   "source": [
    "**Prueba 4:** en el estado del arte cada día se proponen diferentes arquitecturas de redes convolucionales para cada tarea en específico. Por ejemplo, en el siguiente [artículo](https://www.sciencedirect.com/science/article/pii/S0020025518300744?ref=pdf_download&fr=RR-2&rr=812007c03e86f7b0) se muestra una arquitectura de red neuronal propuesta específicamente para detección de sospecha de Glaucoma.\n",
    "\n",
    "Implemente la red siguiendo el esquema propuesto en el artículo. ¿Obtuvo mejores resultados sobre el conjunto de validación que con la primera arquitectura propuesta?"
   ]
  },
  {
   "cell_type": "code",
   "execution_count": null,
   "metadata": {},
   "outputs": [],
   "source": []
  },
  {
   "cell_type": "code",
   "execution_count": null,
   "metadata": {},
   "outputs": [],
   "source": []
  }
 ],
 "metadata": {
  "language_info": {
   "name": "python"
  }
 },
 "nbformat": 4,
 "nbformat_minor": 2
}
