{
 "cells": [
  {
   "cell_type": "markdown",
   "metadata": {},
   "source": [
    "# Lab 6: Transferencia de aprendizaje y ajuste fino\n",
    "En este laboratorio se busca introducir estrategias para adaptar modelos pre-entrenados en la literatura para otra tarea en específico."
   ]
  },
  {
   "cell_type": "code",
   "execution_count": null,
   "metadata": {},
   "outputs": [],
   "source": [
    "# importando librerías\n",
    "import matplotlib.pyplot as plt\n",
    "import numpy as np\n",
    "\n",
    "# importando librerías de deep learning\n",
    "import tensorflow as tf\n",
    "from tensorflow import keras\n",
    "from keras import layers"
   ]
  },
  {
   "cell_type": "code",
   "execution_count": null,
   "metadata": {},
   "outputs": [],
   "source": [
    "# conectando con drive\n",
    "from google.colab import drive\n",
    "drive.mount('/content/drive')"
   ]
  },
  {
   "cell_type": "code",
   "execution_count": null,
   "metadata": {},
   "outputs": [],
   "source": [
    "# moverse a la carpeta donde guardaron el laboratorio\n",
    "# Al lab 4 porque es donde están los datos!!!\n",
    "%cd \"drive/MyDrive/labs-2023-2/lab4\""
   ]
  },
  {
   "cell_type": "markdown",
   "metadata": {},
   "source": [
    "## Lectura y manipulación de los datos\n",
    "**Prueba 1:** con el conjunto de datos de glaucoma dado en el laboratorio 4, genere un dataset para el entrenamiento y evaluación de los modelos. Seleccione un tamaño de $200\\times200$ piexeles, un $15\\%$ de los datos para validación y un tamaño apropiado para los lotes (batches). Configure los datasets para AUTOTUNE de hilos de procesamiento."
   ]
  },
  {
   "cell_type": "code",
   "execution_count": null,
   "metadata": {},
   "outputs": [],
   "source": []
  },
  {
   "cell_type": "markdown",
   "metadata": {},
   "source": [
    "**NOTA:** Utilice el siguiente esquema de código para separar ej conjunto de validación en uno para validación y otro para testeo:\n",
    "\n",
    "```python\n",
    "batch_num   = tf.data.experimental.cardinality(conj_valid)\n",
    "conj_testeo = conj_valid.take(batch_num//5)\n",
    "conj_valid  = conj_valid.skip(batch_num//5)\n",
    "```"
   ]
  },
  {
   "cell_type": "code",
   "execution_count": null,
   "metadata": {},
   "outputs": [],
   "source": []
  },
  {
   "cell_type": "markdown",
   "metadata": {},
   "source": [
    "# Transferencia de aprendizaje\n",
    "El transfer learning es una técnica poderosa que puede ayudar a reducir el tiempo y los recursos necesarios para entrenar un nuevo modelo de aprendizaje automático. También puede ayudar a mejorar el rendimiento del modelo en la nueva tarea, ya que el modelo preentrenado ya ha aprendido a identificar características relevantes en los datos.\n",
    "\n",
    "**Prueba 2:** entrene un modelo de aprendizaje utilizando la arquitectura asignada. Puede consultar las arquitecturas disponibles en el modulo [applications](https://www.tensorflow.org/api_docs/python/tf/keras/applications) de TensorFlow.\n",
    "- Entrene el modelo siguiendo un enfoque de Fine-Tunning y uno de reutilización de características. ¿En cual de los dos casos da el modelo un mejor resultado?"
   ]
  },
  {
   "cell_type": "code",
   "execution_count": null,
   "metadata": {},
   "outputs": [],
   "source": []
  }
 ],
 "metadata": {
  "language_info": {
   "name": "python"
  }
 },
 "nbformat": 4,
 "nbformat_minor": 2
}
